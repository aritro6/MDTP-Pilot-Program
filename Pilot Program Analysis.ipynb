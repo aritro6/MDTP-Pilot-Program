{
 "cells": [
  {
   "cell_type": "code",
   "execution_count": 1,
   "metadata": {},
   "outputs": [
    {
     "name": "stderr",
     "output_type": "stream",
     "text": [
      "/Users/Aritro/anaconda/lib/python2.7/site-packages/statsmodels/compat/pandas.py:56: FutureWarning: The pandas.core.datetools module is deprecated and will be removed in a future version. Please use the pandas.tseries module instead.\n",
      "  from pandas.core import datetools\n"
     ]
    }
   ],
   "source": [
    "import pandas as pd\n",
    "import numpy as np\n",
    "import matplotlib as mpl\n",
    "import matplotlib.pyplot as plt\n",
    "import seaborn as sns\n",
    "import statsmodels.api as sm\n",
    "from statsmodels.formula.api import ols"
   ]
  },
  {
   "cell_type": "code",
   "execution_count": 2,
   "metadata": {
    "collapsed": true
   },
   "outputs": [],
   "source": [
    "Baird_ELA = pd.ExcelFile('data/Galileo Baird Data CST (Updated).xlsx')\n",
    "Baird_Math = pd.ExcelFile('data/Galileo Data Baird Math.xlsx')\n",
    "\n",
    "Madrigal_ELA = pd.ExcelFile('data/Galileo Madrigal ELA Data CST.xlsx')\n",
    "Madrigal_Math = pd.ExcelFile('data/Galileo Madrigal Math Data CST.xlsx')"
   ]
  },
  {
   "cell_type": "code",
   "execution_count": 3,
   "metadata": {
    "collapsed": true
   },
   "outputs": [],
   "source": [
    "#Scores for Ms. Baird Special Education (ELA):\n",
    "Baird_ELA_17_18 = Baird_ELA.parse('2017-18')\n",
    "Baird_ELA_16_17 = Baird_ELA.parse('2016-17')\n",
    "Baird_ELA_15_16 = Baird_ELA.parse('2015-16')\n",
    "Baird_ELA_14_15 = Baird_ELA.parse('2014-15')\n",
    "Baird_ELA_13_14 = Baird_ELA.parse('2013-14')\n",
    "\n",
    "#Scores for Ms. Baird Special Education (Math):\n",
    "Baird_Math_17_18 = Baird_Math.parse('2017-18')\n",
    "Baird_Math_16_17 = Baird_Math.parse('2016-17')\n",
    "Baird_Math_15_16 = Baird_Math.parse('2015-16')\n",
    "Baird_Math_14_15 = Baird_Math.parse('2014-15')\n",
    "Baird_Math_13_14 = Baird_Math.parse('2013-14')\n",
    "\n",
    "# #Scores for Ms. Madrigal 3rd Grade (ELA):\n",
    "Madrigal_ELA_17_18 = Madrigal_ELA.parse('2017-18')\n",
    "Madrigal_ELA_16_17 = Madrigal_ELA.parse('2016-17')\n",
    "Madrigal_ELA_15_16 = Madrigal_ELA.parse('2015-16')\n",
    "Madrigal_ELA_14_15 = Madrigal_ELA.parse('2014-15')\n",
    "Madrigal_ELA_13_14 = Madrigal_ELA.parse('2013-14')\n",
    "Madrigal_ELA_12_13 = Madrigal_ELA.parse('2012-13')\n",
    "Madrigal_ELA_11_12 = Madrigal_ELA.parse('2011-12')\n",
    "\n",
    "# #Scores for Ms. Madrigal 3rd Grade (Math):\n",
    "Madrigal_Math_17_18 = Madrigal_Math.parse('2017-18')\n",
    "Madrigal_Math_16_17 = Madrigal_Math.parse('2016-17')\n",
    "Madrigal_Math_15_16 = Madrigal_Math.parse('2015-16')\n",
    "Madrigal_Math_14_15 = Madrigal_Math.parse('2014-15')\n",
    "Madrigal_Math_13_14 = Madrigal_Math.parse('2013-14')\n",
    "Madrigal_Math_12_13 = Madrigal_Math.parse('2012-13')\n",
    "Madrigal_Math_11_12 = Madrigal_Math.parse('2011-12')"
   ]
  },
  {
   "cell_type": "code",
   "execution_count": 4,
   "metadata": {
    "collapsed": true
   },
   "outputs": [],
   "source": [
    "#Baird Math, dropped columns that did not have test scores\n",
    "Baird_Math_17_18.drop(Baird_Math_17_18.columns[[6,7,8,9,10,11,12]], axis=1, inplace=True)\n",
    "Baird_Math_16_17.drop(Baird_Math_16_17.columns[[6,7,8,9,10,11,12,13]], axis=1, inplace=True)\n",
    "Baird_Math_15_16.drop(Baird_Math_15_16.columns[[6,7,8,9,10,11,12,13]], axis=1, inplace=True)\n",
    "Baird_Math_14_15.drop(Baird_Math_14_15.columns[[6,7,8,9,10,11,12,13]], axis=1, inplace=True)\n",
    "Baird_Math_13_14.drop(Baird_Math_13_14.columns[[6,7,8,9,10,11,12,13]], axis=1, inplace=True)\n",
    "\n",
    "#Baird ELA, dropped columns that did not have test scores\n",
    "Baird_ELA_17_18.drop(Baird_ELA_17_18.columns[[4,5,6,7,8,9,10]], axis=1, inplace=True)\n",
    "Baird_ELA_16_17.drop(Baird_ELA_16_17.columns[[5,6,7,8,9,10,11,12,13]], axis=1, inplace=True)\n",
    "Baird_ELA_15_16.drop(Baird_ELA_15_16.columns[[5,6,7,8,9,10,11,12,13]], axis=1, inplace=True)\n",
    "Baird_ELA_14_15.drop(Baird_ELA_14_15.columns[[5,6,7,8,9,10,11,12,13]], axis=1, inplace=True)\n",
    "Baird_ELA_13_14.drop(Baird_ELA_13_14.columns[[5,6,7,8,9,10,11,12,13]], axis=1, inplace=True)"
   ]
  },
  {
   "cell_type": "code",
   "execution_count": 5,
   "metadata": {
    "collapsed": true
   },
   "outputs": [],
   "source": [
    "#Adding year column:\n",
    "Baird_ELA_13_14['Year'] = '2013-2014'\n",
    "Baird_ELA_14_15['Year'] = '2014-2015'\n",
    "Baird_ELA_15_16['Year'] = '2015-2016'\n",
    "Baird_ELA_16_17['Year'] = '2016-2017'\n",
    "Baird_ELA_17_18['Year'] = '2017-2018'\n",
    "\n",
    "Baird_Math_13_14['Year'] = '2013-2014'\n",
    "Baird_Math_14_15['Year'] = '2014-2015'\n",
    "Baird_Math_15_16['Year'] = '2015-2016'\n",
    "Baird_Math_16_17['Year'] = '2016-2017'\n",
    "Baird_Math_17_18['Year'] = '2017-2018'\n",
    "\n",
    "Madrigal_ELA_11_12['Year'] = '2011-2012'\n",
    "Madrigal_ELA_12_13['Year'] = '2012-2013'\n",
    "Madrigal_ELA_13_14['Year'] = '2013-2014'\n",
    "Madrigal_ELA_14_15['Year'] = '2014-2015'\n",
    "Madrigal_ELA_15_16['Year'] = '2015-2016'\n",
    "Madrigal_ELA_16_17['Year'] = '2016-2017'\n",
    "Madrigal_ELA_17_18['Year'] = '2017-2018'\n",
    "\n",
    "Madrigal_Math_11_12['Year'] = '2011-2012'\n",
    "Madrigal_Math_12_13['Year'] = '2012-2013'\n",
    "Madrigal_Math_13_14['Year'] = '2013-2014'\n",
    "Madrigal_Math_14_15['Year'] = '2014-2015'\n",
    "Madrigal_Math_15_16['Year'] = '2015-2016'\n",
    "Madrigal_Math_16_17['Year'] = '2016-2017'\n",
    "Madrigal_Math_17_18['Year'] = '2017-2018'"
   ]
  },
  {
   "cell_type": "code",
   "execution_count": 6,
   "metadata": {
    "collapsed": true
   },
   "outputs": [],
   "source": [
    "#Removed NaN values from Baird class\n",
    "Baird_ELA_13_14.dropna(inplace=True)\n",
    "Baird_ELA_13_14.drop(Baird_ELA_13_14.tail(3).index,inplace=True)\n",
    "Baird_ELA_14_15.dropna(inplace=True)\n",
    "Baird_ELA_14_15.drop(Baird_ELA_14_15.tail(3).index,inplace=True)\n",
    "Baird_ELA_15_16.dropna(inplace=True)\n",
    "Baird_ELA_15_16.drop(Baird_ELA_15_16.tail(3).index,inplace=True)\n",
    "Baird_ELA_16_17.dropna(inplace=True)\n",
    "Baird_ELA_16_17.drop(Baird_ELA_16_17.tail(3).index,inplace=True)\n",
    "Baird_ELA_17_18.dropna(inplace=True)\n",
    "Baird_ELA_17_18.drop(Baird_ELA_17_18.tail(3).index,inplace=True)\n",
    "\n",
    "Baird_Math_13_14.dropna(inplace=True)\n",
    "Baird_Math_13_14.drop(Baird_Math_13_14.tail(3).index,inplace=True)\n",
    "Baird_Math_14_15.dropna(inplace=True)\n",
    "Baird_Math_14_15.drop(Baird_Math_14_15.tail(3).index,inplace=True)\n",
    "Baird_Math_15_16.dropna(inplace=True)\n",
    "Baird_Math_15_16.drop(Baird_Math_15_16.tail(3).index,inplace=True)\n",
    "Baird_Math_16_17.dropna(inplace=True)\n",
    "Baird_Math_16_17.drop(Baird_Math_16_17.tail(3).index,inplace=True)\n",
    "Baird_Math_17_18.dropna(inplace=True)\n",
    "Baird_Math_17_18.drop(Baird_Math_17_18.tail(3).index,inplace=True)\n",
    "\n",
    "#Removed NaN values from Madrigal class\n",
    "Madrigal_ELA_11_12.dropna(inplace=True)\n",
    "Madrigal_ELA_12_13.dropna(inplace=True)\n",
    "Madrigal_ELA_13_14.dropna(inplace=True)\n",
    "Madrigal_ELA_14_15.dropna(inplace=True)\n",
    "Madrigal_ELA_15_16.dropna(inplace=True)\n",
    "Madrigal_ELA_16_17.dropna(inplace=True)\n",
    "Madrigal_ELA_17_18.dropna(inplace=True)\n",
    "\n",
    "Madrigal_Math_11_12.dropna(inplace=True)\n",
    "Madrigal_Math_12_13.dropna(inplace=True)\n",
    "Madrigal_Math_13_14.dropna(inplace=True)\n",
    "Madrigal_Math_14_15.dropna(inplace=True)\n",
    "Madrigal_Math_15_16.dropna(inplace=True)\n",
    "Madrigal_Math_16_17.dropna(inplace=True)\n",
    "Madrigal_Math_17_18.dropna(inplace=True)"
   ]
  },
  {
   "cell_type": "code",
   "execution_count": 7,
   "metadata": {},
   "outputs": [
    {
     "data": {
      "text/html": [
       "<div>\n",
       "<style>\n",
       "    .dataframe thead tr:only-child th {\n",
       "        text-align: right;\n",
       "    }\n",
       "\n",
       "    .dataframe thead th {\n",
       "        text-align: left;\n",
       "    }\n",
       "\n",
       "    .dataframe tbody tr th {\n",
       "        vertical-align: top;\n",
       "    }\n",
       "</style>\n",
       "<table border=\"1\" class=\"dataframe\">\n",
       "  <thead>\n",
       "    <tr style=\"text-align: right;\">\n",
       "      <th></th>\n",
       "      <th>Name</th>\n",
       "      <th>Pre Score</th>\n",
       "      <th>Pre %</th>\n",
       "      <th>Grade in Academic Year</th>\n",
       "      <th>Year</th>\n",
       "    </tr>\n",
       "  </thead>\n",
       "  <tbody>\n",
       "    <tr>\n",
       "      <th>0</th>\n",
       "      <td>Barlow, G</td>\n",
       "      <td>6.0</td>\n",
       "      <td>0.150</td>\n",
       "      <td>6th</td>\n",
       "      <td>2017-2018</td>\n",
       "    </tr>\n",
       "    <tr>\n",
       "      <th>1</th>\n",
       "      <td>Garcia, A</td>\n",
       "      <td>6.0</td>\n",
       "      <td>0.150</td>\n",
       "      <td>5th</td>\n",
       "      <td>2017-2018</td>\n",
       "    </tr>\n",
       "    <tr>\n",
       "      <th>2</th>\n",
       "      <td>Gonzalez, A</td>\n",
       "      <td>9.0</td>\n",
       "      <td>0.225</td>\n",
       "      <td>6th</td>\n",
       "      <td>2017-2018</td>\n",
       "    </tr>\n",
       "    <tr>\n",
       "      <th>4</th>\n",
       "      <td>Htoo, L</td>\n",
       "      <td>12.0</td>\n",
       "      <td>0.300</td>\n",
       "      <td>6th</td>\n",
       "      <td>2017-2018</td>\n",
       "    </tr>\n",
       "    <tr>\n",
       "      <th>6</th>\n",
       "      <td>Martinez, C</td>\n",
       "      <td>13.0</td>\n",
       "      <td>0.325</td>\n",
       "      <td>5th</td>\n",
       "      <td>2017-2018</td>\n",
       "    </tr>\n",
       "    <tr>\n",
       "      <th>7</th>\n",
       "      <td>Meza Rosales, G</td>\n",
       "      <td>10.0</td>\n",
       "      <td>0.250</td>\n",
       "      <td>5th</td>\n",
       "      <td>2017-2018</td>\n",
       "    </tr>\n",
       "    <tr>\n",
       "      <th>8</th>\n",
       "      <td>Pena, A</td>\n",
       "      <td>10.0</td>\n",
       "      <td>0.250</td>\n",
       "      <td>6th</td>\n",
       "      <td>2017-2018</td>\n",
       "    </tr>\n",
       "    <tr>\n",
       "      <th>9</th>\n",
       "      <td>Ramirez, E</td>\n",
       "      <td>12.0</td>\n",
       "      <td>0.300</td>\n",
       "      <td>6th</td>\n",
       "      <td>2017-2018</td>\n",
       "    </tr>\n",
       "    <tr>\n",
       "      <th>10</th>\n",
       "      <td>Soto Molina, J</td>\n",
       "      <td>6.0</td>\n",
       "      <td>0.150</td>\n",
       "      <td>6th</td>\n",
       "      <td>2017-2018</td>\n",
       "    </tr>\n",
       "  </tbody>\n",
       "</table>\n",
       "</div>"
      ],
      "text/plain": [
       "              Name   Pre Score  Pre % Grade in Academic Year       Year\n",
       "0         Barlow, G        6.0  0.150                    6th  2017-2018\n",
       "1         Garcia, A        6.0  0.150                    5th  2017-2018\n",
       "2       Gonzalez, A        9.0  0.225                    6th  2017-2018\n",
       "4           Htoo, L       12.0  0.300                    6th  2017-2018\n",
       "6       Martinez, C       13.0  0.325                    5th  2017-2018\n",
       "7   Meza Rosales, G       10.0  0.250                    5th  2017-2018\n",
       "8           Pena, A       10.0  0.250                    6th  2017-2018\n",
       "9        Ramirez, E       12.0  0.300                    6th  2017-2018\n",
       "10   Soto Molina, J        6.0  0.150                    6th  2017-2018"
      ]
     },
     "execution_count": 7,
     "metadata": {},
     "output_type": "execute_result"
    }
   ],
   "source": [
    "Baird_ELA_17_18"
   ]
  },
  {
   "cell_type": "code",
   "execution_count": 8,
   "metadata": {
    "collapsed": true
   },
   "outputs": [],
   "source": [
    "Madrigal_ELA_11_12['Post-Pre'] = Madrigal_ELA_11_12['Post Score'] - Madrigal_ELA_11_12['Pre Score']\n",
    "Madrigal_ELA_12_13['Post-Pre'] = Madrigal_ELA_12_13['Post Score'] - Madrigal_ELA_12_13['Pre Score']\n",
    "Madrigal_ELA_13_14['Post-Pre'] = Madrigal_ELA_13_14['Post Score'] - Madrigal_ELA_13_14['Pre Score']\n",
    "Madrigal_ELA_14_15['Post-Pre'] = Madrigal_ELA_14_15['Post Score'] - Madrigal_ELA_14_15['Pre Score']\n",
    "Madrigal_ELA_15_16['Post-Pre'] = Madrigal_ELA_15_16['Post Score'] - Madrigal_ELA_15_16['Pre Score']\n",
    "Madrigal_ELA_16_17['Post-Pre'] = Madrigal_ELA_16_17['Post Score'] - Madrigal_ELA_16_17['Pre Score']\n",
    "Madrigal_ELA_17_18['Post-Pre'] = Madrigal_ELA_17_18['Post Score'] - Madrigal_ELA_17_18['Pre Score']\n",
    "\n",
    "Madrigal_Math_11_12['Post-Pre'] = Madrigal_Math_11_12['Post Score'] - Madrigal_Math_11_12['Pre Score']\n",
    "Madrigal_Math_12_13['Post-Pre'] = Madrigal_Math_12_13['Post Score'] - Madrigal_Math_12_13['Pre Score']\n",
    "Madrigal_Math_13_14['Post-Pre'] = Madrigal_Math_13_14['Post Score'] - Madrigal_Math_13_14['Pre Score']\n",
    "Madrigal_Math_14_15['Post-Pre'] = Madrigal_Math_14_15['Post Score'] - Madrigal_Math_14_15['Pre Score']\n",
    "Madrigal_Math_15_16['Post-Pre'] = Madrigal_Math_15_16['Post Score'] - Madrigal_Math_15_16['Pre Score']\n",
    "Madrigal_Math_16_17['Post-Pre'] = Madrigal_Math_16_17['Post Score'] - Madrigal_Math_16_17['Pre Score']\n",
    "Madrigal_Math_17_18['Post-Pre'] = Madrigal_Math_17_18['Post Score'] - Madrigal_Math_17_18['Pre Score']"
   ]
  },
  {
   "cell_type": "code",
   "execution_count": 9,
   "metadata": {
    "collapsed": true
   },
   "outputs": [],
   "source": [
    "#Combining classroom years:\n",
    "Baird_ELA_list = [Baird_ELA_13_14, Baird_ELA_14_15, Baird_ELA_15_16, Baird_ELA_16_17, Baird_ELA_16_17, Baird_ELA_17_18]\n",
    "Baird_Math_list = [Baird_Math_13_14, Baird_Math_14_15, Baird_Math_15_16, Baird_Math_16_17, Baird_Math_16_17, Baird_Math_17_18]\n",
    "Madrigal_ELA_list = [Madrigal_ELA_11_12, Madrigal_ELA_12_13, Madrigal_ELA_13_14, Madrigal_ELA_14_15, Madrigal_ELA_15_16, Madrigal_ELA_16_17, Madrigal_ELA_17_18]\n",
    "Madrigal_Math_list = [Madrigal_Math_11_12, Madrigal_Math_12_13, Madrigal_Math_13_14, Madrigal_Math_14_15, Madrigal_Math_15_16, Madrigal_Math_16_17, Madrigal_Math_17_18]\n",
    "\n",
    "Baird_ELA_Master = pd.concat(Baird_ELA_list)\n",
    "Baird_Math_Master = pd.concat(Baird_Math_list)\n",
    "Madrigal_ELA_Master = pd.concat(Madrigal_ELA_list)\n",
    "Madrigal_Math_Master = pd.concat(Madrigal_Math_list)"
   ]
  },
  {
   "cell_type": "code",
   "execution_count": 10,
   "metadata": {},
   "outputs": [
    {
     "name": "stdout",
     "output_type": "stream",
     "text": [
      "78.7709497207\n",
      "71.7514124294\n"
     ]
    }
   ],
   "source": [
    "print(100. * (Madrigal_ELA_Master['Post-Pre'] >= 0).sum() / len(Madrigal_ELA_Master['Post-Pre'].index))\n",
    "print(100. * (Madrigal_Math_Master['Post-Pre'] >= 0).sum() / len(Madrigal_Math_Master['Post-Pre'].index))"
   ]
  },
  {
   "cell_type": "code",
   "execution_count": 21,
   "metadata": {},
   "outputs": [],
   "source": [
    "Madrigal_Math_Master['Post-Pre'] = Madrigal_Math_Master['Post-Pre'].astype('float')\n",
    "Madrigal_Math_Master['Post Score'] = Madrigal_Math_Master['Post Score'].astype('float')"
   ]
  },
  {
   "cell_type": "code",
   "execution_count": 22,
   "metadata": {},
   "outputs": [
    {
     "data": {
      "image/png": "[encoded data removed]",
      "text/plain": [
       "<matplotlib.figure.Figure at 0x10d6c7f50>"
      ]
     },
     "metadata": {},
     "output_type": "display_data"
    },
    {
     "data": {
      "image/png": "[encoded data removed]",
      "text/plain": [
       "<matplotlib.figure.Figure at 0x10dc32e10>"
      ]
     },
     "metadata": {},
     "output_type": "display_data"
    },
    {
     "data": {
      "image/png": "[encoded data removed]",
      "text/plain": [
       "<matplotlib.figure.Figure at 0x10dc79dd0>"
      ]
     },
     "metadata": {},
     "output_type": "display_data"
    },
    {
     "data": {
      "image/png": "[encoded data removed]",
      "text/plain": [
       "<matplotlib.figure.Figure at 0x10e1c68d0>"
      ]
     },
     "metadata": {},
     "output_type": "display_data"
    }
   ],
   "source": [
    "#Box Plots\n",
    "\n",
    "# Baird:\n",
    "# sns.boxplot(x='Year' ,y='Post Score', data=Baird_ELA_Master).set_title('Baird ELA')\n",
    "# plt.show()\n",
    "# sns.boxplot(x='Year' ,y='Post Score', data=Baird_Math_Master).set_title('Baird Math')\n",
    "# plt.show()\n",
    "\n",
    "#Madrigal:\n",
    "sns.boxplot(x='Year' ,y='Post-Pre', data=Madrigal_ELA_Master).set_title('ELA (Post-Pre)')\n",
    "plt.show()\n",
    "sns.boxplot(x='Year' ,y='Post-Pre', data=Madrigal_Math_Master).set_title('Math (Post-Pre)')\n",
    "plt.show()\n",
    "\n",
    "sns.boxplot(x='Year' ,y='Post Score', data=Madrigal_ELA_Master).set_title('ELA (Post)')\n",
    "plt.show()\n",
    "sns.boxplot(x='Year' ,y='Post Score', data=Madrigal_Math_Master).set_title('Math (Post)')\n",
    "plt.show()"
   ]
  },
  {
   "cell_type": "code",
   "execution_count": null,
   "metadata": {
    "collapsed": true
   },
   "outputs": [],
   "source": [
    "import statsmodels.api as sm\n",
    "from statsmodels.formula.api import ols\n",
    "\n",
    "x = Madrigal_ELA_Master['Year']\n",
    "y = Madrigal_ELA_Master['Post-Pre']\n",
    "\n",
    "mod = ols('y ~ x', data=Madrigal_ELA_Master)\n",
    "results = mod.fit()\n",
    "                \n",
    "aov_table = sm.stats.anova_lm(results, typ=2)\n",
    "print(aov_table)"
   ]
  },
  {
   "cell_type": "code",
   "execution_count": null,
   "metadata": {
    "collapsed": true
   },
   "outputs": [],
   "source": [
    "w = Madrigal_Math_Master['Year']\n",
    "z = Madrigal_Math_Master['Post-Pre']\n",
    "\n",
    "mod2 = ols('z ~ w', data=Madrigal_Math_Master)\n",
    "results2 = mod2.fit()\n",
    "                \n",
    "aov_table2 = sm.stats.anova_lm(results2, typ=2)\n",
    "print(aov_table2)"
   ]
  },
  {
   "cell_type": "code",
   "execution_count": 23,
   "metadata": {},
   "outputs": [
    {
     "name": "stdout",
     "output_type": "stream",
     "text": [
      "Madrigal ELA t-test:\n",
      "Ttest_indResult(statistic=-2.0040242484109227, pvalue=0.05061167633131844)\n",
      "Ttest_indResult(statistic=1.8197703073243479, pvalue=0.07466558911607162)\n",
      "Ttest_indResult(statistic=0.792013409155111, pvalue=0.4318184349217422)\n",
      "Ttest_indResult(statistic=-0.8889151964017188, pvalue=0.3782223068363272)\n",
      "Ttest_indResult(statistic=0.6462547385018245, pvalue=0.5213257463967824)\n",
      "Ttest_indResult(statistic=0.5847909338511436, pvalue=0.5612666696070077)\n",
      "Ttest_indResult(statistic=0.0, pvalue=1.0)\n",
      "\n",
      "Madrigal Math t-test:\n",
      "Ttest_indResult(statistic=1.3502099579408693, pvalue=0.1837008474034108)\n",
      "Ttest_indResult(statistic=-1.0703228051558025, pvalue=0.28993995963173824)\n",
      "Ttest_indResult(statistic=-1.096756251396934, pvalue=0.2780022109385781)\n",
      "Ttest_indResult(statistic=0.5668180254736052, pvalue=0.5735349800799059)\n",
      "Ttest_indResult(statistic=4.891745421646766, pvalue=1.4418728767572552e-05)\n",
      "Ttest_indResult(statistic=4.967041201129512, pvalue=9.01858129381394e-06)\n",
      "Ttest_indResult(statistic=0.0, pvalue=1.0)\n"
     ]
    }
   ],
   "source": [
    "import scipy.stats as stats\n",
    "\n",
    "print('Madrigal ELA t-test:')\n",
    "for year in Madrigal_ELA_list:\n",
    "    print(stats.ttest_ind(year['Post-Pre'], \n",
    "                          Madrigal_ELA_17_18['Post-Pre']))\n",
    "    \n",
    "print('\\nMadrigal Math t-test:')\n",
    "for year2 in Madrigal_Math_list:\n",
    "    print(stats.ttest_ind(year2['Post-Pre'], \n",
    "                          Madrigal_Math_17_18['Post-Pre']))"
   ]
  },
  {
   "cell_type": "code",
   "execution_count": null,
   "metadata": {
    "collapsed": true
   },
   "outputs": [],
   "source": [
    "# print(Madrigal_Math_12_13['Post-Pre'].mean)\n",
    "# print(Madrigal_Math_13_14['Post-Pre'].mean)\n",
    "# print(Madrigal_Math_14_15['Post-Pre'].mean)\n",
    "print(Madrigal_Math_15_16['Post-Pre'].mean)\n",
    "print(Madrigal_Math_16_17['Post-Pre'].mean)\n",
    "print(Madrigal_Math_17_18['Post-Pre'].mean)"
   ]
  },
  {
   "cell_type": "code",
   "execution_count": null,
   "metadata": {
    "collapsed": true
   },
   "outputs": [],
   "source": []
  },
  {
   "cell_type": "code",
   "execution_count": null,
   "metadata": {
    "collapsed": true
   },
   "outputs": [],
   "source": []
  }
 ],
 "metadata": {
  "kernelspec": {
   "display_name": "Python 2",
   "language": "python",
   "name": "python2"
  },
  "language_info": {
   "codemirror_mode": {
    "name": "ipython",
    "version": 2
   },
   "file_extension": ".py",
   "mimetype": "text/x-python",
   "name": "python",
   "nbconvert_exporter": "python",
   "pygments_lexer": "ipython2",
   "version": "2.7.13"
  }
 },
 "nbformat": 4,
 "nbformat_minor": 2
}
